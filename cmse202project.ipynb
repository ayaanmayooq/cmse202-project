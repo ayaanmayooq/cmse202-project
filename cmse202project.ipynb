{
 "cells": [
  {
   "cell_type": "markdown",
   "id": "e86ca0d2",
   "metadata": {},
   "source": [
    "# CMSE 202 Group Project\n",
    "## Predicting the prices of certain stocks based on their trends with similar stocks"
   ]
  },
  {
   "cell_type": "code",
   "execution_count": null,
   "id": "7c9fdc6e",
   "metadata": {},
   "outputs": [],
   "source": []
  }
 ],
 "metadata": {
  "kernelspec": {
   "display_name": "Python 3",
   "language": "python",
   "name": "python3"
  },
  "language_info": {
   "codemirror_mode": {
    "name": "ipython",
    "version": 3
   },
   "file_extension": ".py",
   "mimetype": "text/x-python",
   "name": "python",
   "nbconvert_exporter": "python",
   "pygments_lexer": "ipython3",
   "version": "3.8.8"
  }
 },
 "nbformat": 4,
 "nbformat_minor": 5
}
